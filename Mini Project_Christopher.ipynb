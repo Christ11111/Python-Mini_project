{
 "cells": [
  {
   "cell_type": "markdown",
   "id": "0e2550ea",
   "metadata": {},
   "source": [
    "### Q1. Create a Dictionary of lists to store the information of shipments given in the table"
   ]
  },
  {
   "cell_type": "code",
   "execution_count": 4,
   "id": "519f38c8",
   "metadata": {},
   "outputs": [],
   "source": [
    "import datetime\n",
    "\n",
    "\n",
    "\n",
    "\n",
    "ship_dict = {101:[1,3,'14-03-2020','25-03-2020','Area1','Area6','Delivered',198],\n",
    "        102:[4,1,'18-06-2020','09-07-2020','Area2','Area4','Delivered',275],\n",
    "        103:[2,3,'01-12-2020','Null','Area5','Area1','In-Transit',200],\n",
    "        104:[1,5,'23-06-2020','25-06-2020','Area1','Area4','Delivered',314],\n",
    "        105:[3,4,'29-08-2020','10-09-2020','Area5','Area3','Delivered',275],\n",
    "        106:[5,2,'28-06-2020','Null','Area3','Area1','In-Transit',270]}\n"
   ]
  },
  {
   "cell_type": "markdown",
   "id": "a6d4d37b",
   "metadata": {},
   "source": [
    "### Q2. Create a Dictionary of to store the information of clients given in the table."
   ]
  },
  {
   "cell_type": "code",
   "execution_count": 7,
   "id": "25eae4ac",
   "metadata": {},
   "outputs": [],
   "source": [
    "dict1 = {1 : 'Phillip', 2 : 'Omega III', 3 : 'Ramya', 4 : 'Romesh', 5 : 'John'}"
   ]
  },
  {
   "cell_type": "markdown",
   "id": "1ff313c4",
   "metadata": {},
   "source": [
    "### Q3. Write a code to replace client’s id with their respective name in shipment dictionary using a loop and dictionary comprehension"
   ]
  },
  {
   "cell_type": "code",
   "execution_count": 20,
   "id": "066488bd",
   "metadata": {},
   "outputs": [
    {
     "name": "stdout",
     "output_type": "stream",
     "text": [
      "{101: ['Phillip', 'Ramya', '14-03-2020', '25-03-2020', 'Area1', 'Area6', 'Delivered', 198], 102: ['Romesh', 'Phillip', '18-06-2020', '09-07-2020', 'Area2', 'Area4', 'Delivered', 275], 103: ['Omega III', 'Ramya', '01-12-2020', 'Null', 'Area5', 'Area1', 'In-Transit', 200], 104: ['Phillip', 'John', '23-06-2020', '25-06-2020', 'Area1', 'Area4', 'Delivered', 314], 105: ['Ramya', 'Romesh', '29-08-2020', '10-09-2020', 'Area5', 'Area3', 'Delivered', 275], 106: ['John', 'Omega III', '28-06-2020', 'Null', 'Area3', 'Area1', 'In-Transit', 270]}\n"
     ]
    }
   ],
   "source": [
    "ship_dict1 = {k: [dict1.get(i,i) for i in v] for k,v in ship_dict.items()}\n",
    "print(ship_dict1,end='\\n')"
   ]
  },
  {
   "cell_type": "markdown",
   "id": "80890ba1",
   "metadata": {},
   "source": [
    "### Q4. Print all shipment details that are sent by Phillip"
   ]
  },
  {
   "cell_type": "code",
   "execution_count": 175,
   "id": "03bbf60f",
   "metadata": {},
   "outputs": [],
   "source": [
    "phillip_details = [ship_dict1[i] for i in ship_dict1 if ship_dict1[i][0] == 'Phillip']"
   ]
  },
  {
   "cell_type": "code",
   "execution_count": 176,
   "id": "fafcdc12",
   "metadata": {},
   "outputs": [
    {
     "data": {
      "text/plain": [
       "[['Phillip',\n",
       "  'Ramya',\n",
       "  '14-3-2020',\n",
       "  '25-03-2020',\n",
       "  'Area1',\n",
       "  'Area6',\n",
       "  'Delivered',\n",
       "  198],\n",
       " ['Phillip',\n",
       "  'John',\n",
       "  '23-06-2020',\n",
       "  '25-06-2020',\n",
       "  'Area1',\n",
       "  'Area4',\n",
       "  'Delivered',\n",
       "  314]]"
      ]
     },
     "execution_count": 176,
     "metadata": {},
     "output_type": "execute_result"
    }
   ],
   "source": [
    "phillip_details"
   ]
  },
  {
   "cell_type": "markdown",
   "id": "cdbedb9c",
   "metadata": {},
   "source": [
    "### Q5. Print all shipment details that are received by Ramya"
   ]
  },
  {
   "cell_type": "code",
   "execution_count": 177,
   "id": "83934c63",
   "metadata": {},
   "outputs": [],
   "source": [
    "ramya_details = [ship_dict1[i] for i in ship_dict1 if ship_dict1[i][1] == 'Ramya' ] # getting Ramya details"
   ]
  },
  {
   "cell_type": "code",
   "execution_count": 178,
   "id": "8e3f4eda",
   "metadata": {},
   "outputs": [
    {
     "name": "stdout",
     "output_type": "stream",
     "text": [
      "[['Phillip', 'Ramya', '14-3-2020', '25-03-2020', 'Area1', 'Area6', 'Delivered', 198], ['Omega III', 'Ramya', '01-12-2020', 'Null', 'Area5', 'Area1', 'In-Transit', 200]]    "
     ]
    }
   ],
   "source": [
    "print(ramya_details,end='    ')"
   ]
  },
  {
   "cell_type": "markdown",
   "id": "548e801b",
   "metadata": {},
   "source": [
    "### Q6. Print all shipments which are in 'In-Transit' status"
   ]
  },
  {
   "cell_type": "code",
   "execution_count": 179,
   "id": "ca002c27",
   "metadata": {},
   "outputs": [],
   "source": [
    "InTransit_shipment = [ship_dict1[i] for i in ship_dict1 if ship_dict1[i][6] == 'In-Transit']"
   ]
  },
  {
   "cell_type": "code",
   "execution_count": 180,
   "id": "c984e2cb",
   "metadata": {},
   "outputs": [
    {
     "name": "stdout",
     "output_type": "stream",
     "text": [
      "[['Omega III', 'Ramya', '01-12-2020', 'Null', 'Area5', 'Area1', 'In-Transit', 200], ['John', 'Omega III', '28-06-2020', 'Null', 'Area3', 'Area1', 'In-Transit', 270]]\n"
     ]
    }
   ],
   "source": [
    "print(InTransit_shipment)"
   ]
  },
  {
   "cell_type": "markdown",
   "id": "d893bb5a",
   "metadata": {},
   "source": [
    "### Q7. Print all shipments which are delivered within 7 days of courier Start date"
   ]
  },
  {
   "cell_type": "code",
   "execution_count": 14,
   "id": "08b343fc",
   "metadata": {},
   "outputs": [],
   "source": [
    "ship_dict2 = ship_dict.copy() # taking copy of original file\n",
    "ship_dict2_copy = ship_dict2.copy()"
   ]
  },
  {
   "cell_type": "code",
   "execution_count": 15,
   "id": "8b8de3f2",
   "metadata": {},
   "outputs": [],
   "source": [
    "import datetime\n",
    "for k,v in ship_dict2.items(): # changing null values to min date value\n",
    "    if v[3] == \"Null\":\n",
    "        v[3] = \"01-01-1111\"\n",
    "\n",
    "for i,j in ship_dict2.items(): # changing string values to date data type\n",
    "    a = datetime.datetime.strptime(j[2], '%d-%m-%Y')\n",
    "    b = datetime.datetime.strptime(j[3], '%d-%m-%Y')\n",
    "    ship_dict2[i][2] = a\n",
    "    ship_dict2[i][3] = b\n",
    "    \n",
    "\n",
    "\n",
    "\n",
    "\n",
    "        "
   ]
  },
  {
   "cell_type": "code",
   "execution_count": 21,
   "id": "d2c6ab90",
   "metadata": {},
   "outputs": [
    {
     "name": "stdout",
     "output_type": "stream",
     "text": [
      "['Phillip', 'John', '23-06-2020', '25-06-2020', 'Area1', 'Area4', 'Delivered', 314]\n"
     ]
    }
   ],
   "source": [
    "for k, v in ship_dict2.items():\n",
    "    if abs(v[2] - v[3]).days < 7: # checking less than 7 days for the delivery\n",
    "        print(ship_dict1[k])\n",
    "\n",
    "        "
   ]
  },
  {
   "cell_type": "markdown",
   "id": "879360c9",
   "metadata": {},
   "source": [
    "### Q8. Print all shipments which are delivered after 15 days of courier start date or have not yet been delivered."
   ]
  },
  {
   "cell_type": "code",
   "execution_count": 23,
   "id": "ac547ac4",
   "metadata": {},
   "outputs": [
    {
     "name": "stdout",
     "output_type": "stream",
     "text": [
      "['Romesh', 'Phillip', '18-06-2020', '09-07-2020', 'Area2', 'Area4', 'Delivered', 275]\n",
      "['Omega III', 'Ramya', '01-12-2020', 'Null', 'Area5', 'Area1', 'In-Transit', 200]\n",
      "['John', 'Omega III', '28-06-2020', 'Null', 'Area3', 'Area1', 'In-Transit', 270]\n"
     ]
    }
   ],
   "source": [
    "for k , v in ship_dict2.items():\n",
    "    if abs(v[2] - v[3]).days >= 15 or v[6] == 'In-Transit':\n",
    "        print(ship_dict1[k])"
   ]
  },
  {
   "cell_type": "markdown",
   "id": "fb141461",
   "metadata": {},
   "source": [
    "### Q9. Write a function find_all_routes to display all possible routes from senders location to receivers location given in the dictionary for each shipment."
   ]
  },
  {
   "cell_type": "code",
   "execution_count": 7,
   "id": "dbdd6fd3",
   "metadata": {},
   "outputs": [],
   "source": [
    "def all_routes(matrix,u,d,visited,path):\n",
    "    visited[u] = True # making u as visited location\n",
    "    path.append(u+1) # adding u to the list\n",
    "    if u == d: # print if sender & receiver location are same\n",
    "        print(path)\n",
    "    else:\n",
    "        for i in range(6):\n",
    "            if matrix[u][i] == 1 and (visited[i]==False): # passing condition as per the route matrix and visited list\n",
    "                all_routes(matrix,i,d,visited,path) # calling function again to loop over for other location\n",
    "    path.pop() # removing the last added value\n",
    "    visited[u] = False # making all values of list to False\n",
    "matrix = [[0,1,0,0,0,1],[1,0,1,1,0,0],[0,1,0,1,0,0],[0,1,1,0,1,0],[0,0,0,1,0,0],[1,0,0,0,0,0]] # intialising a route matrix\n",
    "visited = [False for i in range(6)] # initialising a visited list\n",
    "path = [] # creating a empty list to store the path"
   ]
  },
  {
   "cell_type": "code",
   "execution_count": 8,
   "id": "7797e0c2",
   "metadata": {},
   "outputs": [
    {
     "name": "stdout",
     "output_type": "stream",
     "text": [
      "Shipment Id:  101\n",
      "Sender Location:  1\n",
      "Receiver Location:  6\n",
      "All Possible routes: \n",
      "[1, 6]\n",
      "---------------------\n",
      "Shipment Id:  102\n",
      "Sender Location:  2\n",
      "Receiver Location:  4\n",
      "All Possible routes: \n",
      "[2, 3, 4]\n",
      "[2, 4]\n",
      "---------------------\n",
      "Shipment Id:  103\n",
      "Sender Location:  5\n",
      "Receiver Location:  1\n",
      "All Possible routes: \n",
      "[5, 4, 2, 1]\n",
      "[5, 4, 3, 2, 1]\n",
      "---------------------\n",
      "Shipment Id:  104\n",
      "Sender Location:  1\n",
      "Receiver Location:  4\n",
      "All Possible routes: \n",
      "[1, 2, 3, 4]\n",
      "[1, 2, 4]\n",
      "---------------------\n",
      "Shipment Id:  105\n",
      "Sender Location:  5\n",
      "Receiver Location:  3\n",
      "All Possible routes: \n",
      "[5, 4, 2, 3]\n",
      "[5, 4, 3]\n",
      "---------------------\n",
      "Shipment Id:  106\n",
      "Sender Location:  3\n",
      "Receiver Location:  1\n",
      "All Possible routes: \n",
      "[3, 2, 1]\n",
      "[3, 4, 2, 1]\n",
      "---------------------\n"
     ]
    }
   ],
   "source": [
    "def Show_all(ship):\n",
    "    for i in ship:\n",
    "        print(\"Shipment Id: \",i)\n",
    "        s = int(ship[i][4][-1])\n",
    "        print(\"Sender Location: \",s)\n",
    "        r = int(ship[i][5][-1])\n",
    "        print(\"Receiver Location: \",r)\n",
    "        print(\"All Possible routes: \")\n",
    "        all_routes(matrix,s-1,r-1,visited,path) # calling all_route function with sender and receiver location arguments\n",
    "        print(\"---------------------\")\n",
    "Show_all(ship_dict)"
   ]
  }
 ],
 "metadata": {
  "kernelspec": {
   "display_name": "Python 3 (ipykernel)",
   "language": "python",
   "name": "python3"
  },
  "language_info": {
   "codemirror_mode": {
    "name": "ipython",
    "version": 3
   },
   "file_extension": ".py",
   "mimetype": "text/x-python",
   "name": "python",
   "nbconvert_exporter": "python",
   "pygments_lexer": "ipython3",
   "version": "3.9.7"
  }
 },
 "nbformat": 4,
 "nbformat_minor": 5
}
